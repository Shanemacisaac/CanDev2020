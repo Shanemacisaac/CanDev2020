{
 "cells": [
  {
   "cell_type": "code",
   "execution_count": 144,
   "metadata": {},
   "outputs": [],
   "source": [
    "import urllib.request\n",
    "from bs4 import BeautifulSoup\n",
    "import pandas as pd\n",
    "from dateutil import parser\n",
    "from datetime import datetime\n",
    "from crontab import CronTab"
   ]
  },
  {
   "cell_type": "code",
   "execution_count": 93,
   "metadata": {},
   "outputs": [],
   "source": [
    "# scrapes Nova Scotia data\n",
    "def web_scrape_NS(soup):\n",
    "    data = []\n",
    "    table = soup.find_all('td', attrs={'width': '45%'})\n",
    "    table = [ele.text.strip() for ele in table] # strip tags\n",
    "    data.append([ele for ele in table if ele]) # strip empty values\n",
    "    data = data[0]\n",
    "\n",
    "    load = findValue('Net Load', data)\n",
    "    wind = findValue('Wind Generation', data)\n",
    "    return load, wind"
   ]
  },
  {
   "cell_type": "code",
   "execution_count": 94,
   "metadata": {},
   "outputs": [],
   "source": [
    "# scrapes New Brunswick data\n",
    "def web_scrape_NB(soup):\n",
    "    load_box = soup.find('td', attrs={'id': 'nb-load'})\n",
    "    load = load_box.text.strip() # strip() is used to remove starting and trailing\n",
    "    return load"
   ]
  },
  {
   "cell_type": "code",
   "execution_count": 116,
   "metadata": {},
   "outputs": [],
   "source": [
    "# scrapes Ontario data\n",
    "def web_scrape_ON(soup):\n",
    "    span = soup.findAll(string=re.compile(\"MW\")) #'div', class_=\"col-sm-3\")\n",
    "    for i in range(len(span)):\n",
    "        span[i] = span[i][:len(span[i])-3]\n",
    "    load = span[1]\n",
    "    types = [span[12], span[13], span[14], span[15], span[16], span[17]]\n",
    "    return load, types"
   ]
  },
  {
   "cell_type": "code",
   "execution_count": 96,
   "metadata": {},
   "outputs": [],
   "source": [
    "# scrapes Newfoundland and Labrador data\n",
    "def web_scrape_NF(soup):\n",
    "    loadStr = soup.find_all(string=re.compile(\"MW\"))[0]\n",
    "    load = loadStr[:len(loadStr)-4]\n",
    "    return load"
   ]
  },
  {
   "cell_type": "code",
   "execution_count": 97,
   "metadata": {},
   "outputs": [],
   "source": [
    "# scrapes Alberta data\n",
    "def web_scrape_AB(soup):\n",
    "    link = soup.find(string = re.compile(\"Alberta Total Net Generation\"))\n",
    "    load = link.find_next(string = True)\n",
    "    srcs = [\"COAL\", \"GAS\", \"HYDRO\", \"OTHER\", \"WIND\"]\n",
    "    sources = []\n",
    "    for i in range(len(srcs)):\n",
    "        sources.append(soup.find(string = re.compile(srcs[i])).find_next(string = True).find_next(string = True))\n",
    "    return load, sources"
   ]
  },
  {
   "cell_type": "code",
   "execution_count": 98,
   "metadata": {},
   "outputs": [],
   "source": [
    "def findValue(element, data):\n",
    "    i = 0\n",
    "    for ele in data:\n",
    "        if ele == element:\n",
    "            loadIndex = i\n",
    "        else:\n",
    "            i += 1\n",
    "    load = data[loadIndex+1]\n",
    "    return load\n",
    "\n",
    "# returns the BeautifulSoup given a url to scrape\n",
    "def urlOpen(url):\n",
    "    html = urllib.request.urlopen(url)\n",
    "    return BeautifulSoup(html, 'html.parser')"
   ]
  },
  {
   "cell_type": "code",
   "execution_count": 145,
   "metadata": {},
   "outputs": [],
   "source": [
    "urls = {\"NF\": \"https://nlhydro.com/system-information/supply-and-demand/\", \n",
    "        \"ON\": \"http://www.ieso.ca/en/Power-Data/This-Hours-Data\", \n",
    "        \"NB\": \"https://tso.nbpower.com/Public/en/SystemInformation_realtime.asp\",\n",
    "        \"NS\": \"https://resourcesprd-nspower.aws.silvertech.net/oasis/current_report.shtml\",\n",
    "        \"AB\": \"http://ets.aeso.ca/ets_web/ip/Market/Reports/CSDReportServlet\"}\n",
    "soupNF = urlOpen(urls[\"NF\"])\n",
    "soupON = urlOpen(urls[\"ON\"])\n",
    "soupNB = urlOpen(urls[\"NB\"])\n",
    "soupNS = urlOpen(urls[\"NS\"])\n",
    "soupAB = urlOpen(urls[\"AB\"])\n",
    "time = str(datetime.now().hour) + \":\" + str(datetime.now().minute)\n",
    "\n",
    "loadList = [loadNF, loadON, loadNB, loadNS, loadAB]\n",
    "# strip any commas from the load values\n",
    "for i in range(len(loadList)):\n",
    "    loadList[i] = loadList[i].replace(',', '')\n",
    "windNS = windNS.replace(',', '')\n",
    "for i in range(len(sourcesON)):\n",
    "    sourcesON[i] = sourcesON[i].replace(',', '')\n",
    "for i in range(len(sourcesAB)):\n",
    "    sourcesAB[i] = sourcesAB[i].replace(',', '') \n",
    "\n",
    "    \n",
    "provinces = [\"Newfoundland and Labrador\", \"Ontario\", \"New Brunswick\", \"Nova Scotia\", \"Alberta\"]\n",
    "dfLoad = pd.DataFrame(columns=['Time','Net Load (MW)', 'Province'])\n",
    "for i in range(len(timeList)):\n",
    "    dfLoad = dfLoad.append({'Time': time, 'Net Load (MW)': loadList[i], 'Province': provinces[i]}, ignore_index = True)\n",
    "dfLoad.to_csv('Energy.csv', index = False, encoding='cp1252')"
   ]
  }
 ],
 "metadata": {
  "kernelspec": {
   "display_name": "Python 3",
   "language": "python",
   "name": "python3"
  },
  "language_info": {
   "codemirror_mode": {
    "name": "ipython",
    "version": 3
   },
   "file_extension": ".py",
   "mimetype": "text/x-python",
   "name": "python",
   "nbconvert_exporter": "python",
   "pygments_lexer": "ipython3",
   "version": "3.7.4"
  }
 },
 "nbformat": 4,
 "nbformat_minor": 4
}
